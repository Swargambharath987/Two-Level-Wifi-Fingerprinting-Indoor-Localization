{
 "cells": [
  {
   "cell_type": "markdown",
   "id": "1eee9f02",
   "metadata": {},
   "source": [
    "# Tampere1"
   ]
  },
  {
   "cell_type": "code",
   "execution_count": 1,
   "id": "9e224f57",
   "metadata": {},
   "outputs": [],
   "source": [
    "import pandas as pd\n",
    "from matplotlib import pyplot as plt\n",
    "import math\n",
    "\n",
    "df1=pd.read_csv('TAMPERE1_training.csv')\n",
    "#df1\n",
    "m=list(df1['HEIGHT'])\n",
    "\n",
    "for i in range(len(m)):\n",
    "    if m[i] == 3.7:\n",
    "        m[i]=1\n",
    "    if m[i] == 7.4:\n",
    "        m[i]=2\n",
    "    if m[i] == 11.1:\n",
    "        m[i]=3\n",
    "\n",
    "df1['FLOOR']=m\n",
    "df1.pop('HEIGHT')\n",
    "\n",
    "#plt.plot(df1['FLOOR'])             \n",
    "\n",
    "y=df1.iloc[:,-3:-1]\n",
    "x=df1.iloc[:,:-3]\n",
    "#x\n",
    "#y"
   ]
  },
  {
   "cell_type": "code",
   "execution_count": 2,
   "id": "836cf452",
   "metadata": {},
   "outputs": [],
   "source": [
    "#df1.shape\n",
    "#dis={}"
   ]
  },
  {
   "cell_type": "code",
   "execution_count": 3,
   "id": "cb7a11a0",
   "metadata": {},
   "outputs": [],
   "source": [
    "from sklearn.multioutput import MultiOutputRegressor\n",
    "from sklearn.svm import SVR\n",
    "from sklearn.model_selection import train_test_split\n",
    "\n",
    "svr = SVR(epsilon=0)\n",
    "multi_op_reg = MultiOutputRegressor(svr)  \n",
    "\n",
    "x_train,x_test,y_train,y_test=train_test_split(x, y, test_size=0.2, random_state=0)\n",
    "\n",
    "multi_op_reg.fit(x_train,y_train)\n",
    "y_pred=multi_op_reg.predict(x_test)"
   ]
  },
  {
   "cell_type": "code",
   "execution_count": 4,
   "id": "fc1aa752",
   "metadata": {},
   "outputs": [
    {
     "name": "stdout",
     "output_type": "stream",
     "text": [
      "r2 score for the model is 0.8283110824137958\n",
      "Mean Absolute Error for the model is 6.638314969126644\n"
     ]
    }
   ],
   "source": [
    "from sklearn.metrics import r2_score,mean_absolute_error\n",
    "r2 = r2_score(y_test,y_pred)\n",
    "print('r2 score for the model is', r2)\n",
    "\n",
    "mae=mean_absolute_error(y_pred,y_test)\n",
    "print('Mean Absolute Error for the model is', mae)"
   ]
  },
  {
   "cell_type": "code",
   "execution_count": 5,
   "id": "3c0a46a4",
   "metadata": {},
   "outputs": [],
   "source": [
    "distance=[]\n",
    "actualloc=list(zip(y_test['LATITUDE'],y_test['LONGITUDE']))\n",
    "predloc=list(zip(y_pred[:,-1],y_pred[:,-2]))\n",
    "#actualloc\n",
    "#predloc\n",
    "for i in range(len(x_test)):\n",
    "    orig=actualloc[i]\n",
    "    desti=predloc[i]\n",
    "    distance.append(math.dist(orig,desti))\n",
    "#distance"
   ]
  },
  {
   "cell_type": "code",
   "execution_count": 6,
   "id": "b391f5a5",
   "metadata": {},
   "outputs": [
    {
     "data": {
      "image/png": "[encoded data removed]",
      "text/plain": [
       "<Figure size 432x288 with 1 Axes>"
      ]
     },
     "metadata": {
      "needs_background": "light"
     },
     "output_type": "display_data"
    }
   ],
   "source": [
    "plt.hist(distance,bins=[i for i in range(1,30)])\n",
    "plt.xlabel('Distance in meters')\n",
    "plt.title('Distance error between predicted and actual location')\n",
    "plt.ylabel('Number of records')\n",
    "\n",
    "plt.savefig('svm_t1.eps',dpi=400)"
   ]
  },
  {
   "cell_type": "code",
   "execution_count": 7,
   "id": "2a9b81a4",
   "metadata": {},
   "outputs": [
    {
     "name": "stdout",
     "output_type": "stream",
     "text": [
      "177 296\n"
     ]
    }
   ],
   "source": [
    "count=0\n",
    "for i in range(len(distance)):\n",
    "    if distance[i]<=10:\n",
    "        count+=1\n",
    "print(count,len(distance))"
   ]
  },
  {
   "cell_type": "code",
   "execution_count": 8,
   "id": "38846441",
   "metadata": {},
   "outputs": [
    {
     "data": {
      "text/plain": [
       "0.597972972972973"
      ]
     },
     "execution_count": 8,
     "metadata": {},
     "output_type": "execute_result"
    }
   ],
   "source": [
    "177/296"
   ]
  },
  {
   "cell_type": "code",
   "execution_count": null,
   "id": "b6a666d3",
   "metadata": {},
   "outputs": [],
   "source": []
  },
  {
   "cell_type": "code",
   "execution_count": null,
   "id": "cd1f0312",
   "metadata": {},
   "outputs": [],
   "source": []
  },
  {
   "cell_type": "code",
   "execution_count": null,
   "id": "ac76e482",
   "metadata": {},
   "outputs": [],
   "source": []
  },
  {
   "cell_type": "code",
   "execution_count": 23,
   "id": "bf451722",
   "metadata": {},
   "outputs": [],
   "source": [
    "dis[4]=distance[:]"
   ]
  },
  {
   "cell_type": "code",
   "execution_count": 24,
   "id": "ddcdd39a",
   "metadata": {
    "scrolled": true
   },
   "outputs": [
    {
     "data": {
      "image/png": "[encoded data removed]",
      "text/plain": [
       "<Figure size 432x288 with 4 Axes>"
      ]
     },
     "metadata": {
      "needs_background": "light"
     },
     "output_type": "display_data"
    }
   ],
   "source": [
    "fig,axs=plt.subplots(2,2)\n",
    "\n",
    "axs[0,0].hist(dis[4],bins=[i for i in range(1,30)])\n",
    "#plt.xlabel('Distance')\n",
    "#plt.ylabel('Number of data points')\n",
    "axs[0,0].set_title('distance error,test size=0.5')\n",
    "\n",
    "axs[0,1].hist(dis[3],bins=[i for i in range(1,30)])\n",
    "#plt.xlabel('Distance')\n",
    "#plt.ylabel('Number of data points')\n",
    "axs[0,1].set_title('distance error,test size=0.4')\n",
    "\n",
    "axs[1,0].hist(dis[2],bins=[i for i in range(1,30)])\n",
    "#plt.xlabel('Distance')\n",
    "#plt.ylabel('Number of data points')\n",
    "axs[1,0].set_title('distance error,test size=0.3')\n",
    "\n",
    "axs[1,1].hist(dis[1],bins=[i for i in range(1,30)])\n",
    "#plt.xlabel('Distance')\n",
    "#plt.ylabel('Number of data points')\n",
    "axs[1,1].set_title('distance error,test size=0.2')\n",
    "\n",
    "fig.suptitle('Tampere1_SVM', fontsize=20)\n",
    "\n",
    "fig.tight_layout()\n",
    "\n",
    "plt.savefig('SVM_Tampere1.eps',format='eps',dpi=600)"
   ]
  },
  {
   "cell_type": "code",
   "execution_count": 25,
   "id": "9f3586c8",
   "metadata": {},
   "outputs": [
    {
     "data": {
      "image/png": "[encoded data removed]",
      "text/plain": [
       "<Figure size 432x288 with 4 Axes>"
      ]
     },
     "metadata": {
      "needs_background": "light"
     },
     "output_type": "display_data"
    }
   ],
   "source": [
    "fig,axs=plt.subplots(2,2)\n",
    "\n",
    "\n",
    "axs[0,0].hist(dis[4],bins=[i for i in range(1,20)])\n",
    "#plt.xlabel('Distance')\n",
    "#plt.ylabel('Number of data points')\n",
    "axs[0,0].set_title('distance error,test size=0.5')\n",
    "\n",
    "axs[0,1].hist(dis[3],bins=[i for i in range(1,20)])\n",
    "#plt.xlabel('Distance')\n",
    "#plt.ylabel('Number of data points')\n",
    "axs[0,1].set_title('distance error,test size=0.4')\n",
    "\n",
    "axs[1,0].hist(dis[2],bins=[i for i in range(1,20)])\n",
    "#plt.xlabel('Distance')\n",
    "#plt.ylabel('Number of data points')\n",
    "axs[1,0].set_title('distance error,test size=0.3')\n",
    "\n",
    "axs[1,1].hist(dis[1],bins=[i for i in range(1,20)])\n",
    "#plt.xlabel('Distance')\n",
    "#plt.ylabel('Number of data points')\n",
    "axs[1,1].set_title('distance error,test size=0.2')\n",
    "\n",
    "fig.suptitle('Tampere1_SVM', fontsize=20)\n",
    "\n",
    "fig.tight_layout()\n",
    "\n",
    "plt.savefig('SVM_Tampere1_20range.eps',format='eps',dpi=600)"
   ]
  },
  {
   "cell_type": "code",
   "execution_count": 38,
   "id": "b25e7e7a",
   "metadata": {},
   "outputs": [
    {
     "name": "stdout",
     "output_type": "stream",
     "text": [
      "r2 score for the model is 0.8522619191885318\n",
      "Mean Absolute Error for the model is 0.17128844384065153\n",
      "cross_validation_score:84.16%\n",
      "Standard deviation:1.76%\n"
     ]
    }
   ],
   "source": [
    "from sklearn.metrics import r2_score,mean_absolute_error\n",
    "from sklearn.model_selection import cross_val_score\n",
    "\n",
    "r2 = r2_score(y_test,y_pred)\n",
    "print('r2 score for the model is', r2)\n",
    "\n",
    "mae=mean_absolute_error(y_pred[:,-1],y_test['FLOOR'])\n",
    "print('Mean Absolute Error for the model is', mae)\n",
    "\n",
    "cross_validation_score =cross_val_score(estimator=multi_op_reg,X=x_train,y=y_train,cv=10)\n",
    "print('cross_validation_score:{:.2f}%'.format(cross_validation_score.mean()*100))\n",
    "print('Standard deviation:{:.2f}%'.format(cross_validation_score.std()*100))\n"
   ]
  },
  {
   "cell_type": "code",
   "execution_count": 7,
   "id": "11062418",
   "metadata": {},
   "outputs": [
    {
     "data": {
      "text/html": [
       "<div>\n",
       "<style scoped>\n",
       "    .dataframe tbody tr th:only-of-type {\n",
       "        vertical-align: middle;\n",
       "    }\n",
       "\n",
       "    .dataframe tbody tr th {\n",
       "        vertical-align: top;\n",
       "    }\n",
       "\n",
       "    .dataframe thead th {\n",
       "        text-align: right;\n",
       "    }\n",
       "</style>\n",
       "<table border=\"1\" class=\"dataframe\">\n",
       "  <thead>\n",
       "    <tr style=\"text-align: right;\">\n",
       "      <th></th>\n",
       "      <th>longitude</th>\n",
       "      <th>predicted</th>\n",
       "    </tr>\n",
       "  </thead>\n",
       "  <tbody>\n",
       "    <tr>\n",
       "      <th>563</th>\n",
       "      <td>-80.5</td>\n",
       "      <td>-63.630085</td>\n",
       "    </tr>\n",
       "    <tr>\n",
       "      <th>746</th>\n",
       "      <td>-56.5</td>\n",
       "      <td>-50.837015</td>\n",
       "    </tr>\n",
       "    <tr>\n",
       "      <th>436</th>\n",
       "      <td>-76.5</td>\n",
       "      <td>-72.033921</td>\n",
       "    </tr>\n",
       "    <tr>\n",
       "      <th>1044</th>\n",
       "      <td>-5.5</td>\n",
       "      <td>-14.107683</td>\n",
       "    </tr>\n",
       "    <tr>\n",
       "      <th>1244</th>\n",
       "      <td>-23.5</td>\n",
       "      <td>-29.222015</td>\n",
       "    </tr>\n",
       "    <tr>\n",
       "      <th>...</th>\n",
       "      <td>...</td>\n",
       "      <td>...</td>\n",
       "    </tr>\n",
       "    <tr>\n",
       "      <th>553</th>\n",
       "      <td>-24.5</td>\n",
       "      <td>-29.018131</td>\n",
       "    </tr>\n",
       "    <tr>\n",
       "      <th>77</th>\n",
       "      <td>-55.5</td>\n",
       "      <td>-55.011589</td>\n",
       "    </tr>\n",
       "    <tr>\n",
       "      <th>863</th>\n",
       "      <td>-14.5</td>\n",
       "      <td>-19.778359</td>\n",
       "    </tr>\n",
       "    <tr>\n",
       "      <th>884</th>\n",
       "      <td>-7.5</td>\n",
       "      <td>-11.327811</td>\n",
       "    </tr>\n",
       "    <tr>\n",
       "      <th>44</th>\n",
       "      <td>-41.5</td>\n",
       "      <td>-41.434462</td>\n",
       "    </tr>\n",
       "  </tbody>\n",
       "</table>\n",
       "<p>444 rows × 2 columns</p>\n",
       "</div>"
      ],
      "text/plain": [
       "      longitude  predicted\n",
       "563       -80.5 -63.630085\n",
       "746       -56.5 -50.837015\n",
       "436       -76.5 -72.033921\n",
       "1044       -5.5 -14.107683\n",
       "1244      -23.5 -29.222015\n",
       "...         ...        ...\n",
       "553       -24.5 -29.018131\n",
       "77        -55.5 -55.011589\n",
       "863       -14.5 -19.778359\n",
       "884        -7.5 -11.327811\n",
       "44        -41.5 -41.434462\n",
       "\n",
       "[444 rows x 2 columns]"
      ]
     },
     "execution_count": 7,
     "metadata": {},
     "output_type": "execute_result"
    }
   ],
   "source": [
    "comparison2=pd.DataFrame({'longitude':y_test['LONGITUDE'],'predicted':y_pred[:,-3]})\n",
    "comparison2"
   ]
  },
  {
   "cell_type": "code",
   "execution_count": 8,
   "id": "2bb9e73c",
   "metadata": {},
   "outputs": [
    {
     "data": {
      "text/html": [
       "<div>\n",
       "<style scoped>\n",
       "    .dataframe tbody tr th:only-of-type {\n",
       "        vertical-align: middle;\n",
       "    }\n",
       "\n",
       "    .dataframe tbody tr th {\n",
       "        vertical-align: top;\n",
       "    }\n",
       "\n",
       "    .dataframe thead th {\n",
       "        text-align: right;\n",
       "    }\n",
       "</style>\n",
       "<table border=\"1\" class=\"dataframe\">\n",
       "  <thead>\n",
       "    <tr style=\"text-align: right;\">\n",
       "      <th></th>\n",
       "      <th>latitude</th>\n",
       "      <th>predicted</th>\n",
       "    </tr>\n",
       "  </thead>\n",
       "  <tbody>\n",
       "    <tr>\n",
       "      <th>563</th>\n",
       "      <td>-8.5</td>\n",
       "      <td>0.205888</td>\n",
       "    </tr>\n",
       "    <tr>\n",
       "      <th>746</th>\n",
       "      <td>5.5</td>\n",
       "      <td>6.574972</td>\n",
       "    </tr>\n",
       "    <tr>\n",
       "      <th>436</th>\n",
       "      <td>-0.5</td>\n",
       "      <td>8.029819</td>\n",
       "    </tr>\n",
       "    <tr>\n",
       "      <th>1044</th>\n",
       "      <td>-12.5</td>\n",
       "      <td>-9.967720</td>\n",
       "    </tr>\n",
       "    <tr>\n",
       "      <th>1244</th>\n",
       "      <td>-11.5</td>\n",
       "      <td>-2.373775</td>\n",
       "    </tr>\n",
       "    <tr>\n",
       "      <th>...</th>\n",
       "      <td>...</td>\n",
       "      <td>...</td>\n",
       "    </tr>\n",
       "    <tr>\n",
       "      <th>553</th>\n",
       "      <td>-3.5</td>\n",
       "      <td>1.206858</td>\n",
       "    </tr>\n",
       "    <tr>\n",
       "      <th>77</th>\n",
       "      <td>7.5</td>\n",
       "      <td>7.555884</td>\n",
       "    </tr>\n",
       "    <tr>\n",
       "      <th>863</th>\n",
       "      <td>6.5</td>\n",
       "      <td>9.224097</td>\n",
       "    </tr>\n",
       "    <tr>\n",
       "      <th>884</th>\n",
       "      <td>19.5</td>\n",
       "      <td>19.106407</td>\n",
       "    </tr>\n",
       "    <tr>\n",
       "      <th>44</th>\n",
       "      <td>8.5</td>\n",
       "      <td>6.945616</td>\n",
       "    </tr>\n",
       "  </tbody>\n",
       "</table>\n",
       "<p>444 rows × 2 columns</p>\n",
       "</div>"
      ],
      "text/plain": [
       "      latitude  predicted\n",
       "563       -8.5   0.205888\n",
       "746        5.5   6.574972\n",
       "436       -0.5   8.029819\n",
       "1044     -12.5  -9.967720\n",
       "1244     -11.5  -2.373775\n",
       "...        ...        ...\n",
       "553       -3.5   1.206858\n",
       "77         7.5   7.555884\n",
       "863        6.5   9.224097\n",
       "884       19.5  19.106407\n",
       "44         8.5   6.945616\n",
       "\n",
       "[444 rows x 2 columns]"
      ]
     },
     "execution_count": 8,
     "metadata": {},
     "output_type": "execute_result"
    }
   ],
   "source": [
    "comparison3=pd.DataFrame({'latitude':y_test['LATITUDE'],'predicted':y_pred[:,-2]})\n",
    "comparison3"
   ]
  },
  {
   "cell_type": "code",
   "execution_count": 9,
   "id": "8fa07567",
   "metadata": {},
   "outputs": [
    {
     "data": {
      "text/html": [
       "<div>\n",
       "<style scoped>\n",
       "    .dataframe tbody tr th:only-of-type {\n",
       "        vertical-align: middle;\n",
       "    }\n",
       "\n",
       "    .dataframe tbody tr th {\n",
       "        vertical-align: top;\n",
       "    }\n",
       "\n",
       "    .dataframe thead th {\n",
       "        text-align: right;\n",
       "    }\n",
       "</style>\n",
       "<table border=\"1\" class=\"dataframe\">\n",
       "  <thead>\n",
       "    <tr style=\"text-align: right;\">\n",
       "      <th></th>\n",
       "      <th>y_pred</th>\n",
       "      <th>y_test</th>\n",
       "    </tr>\n",
       "  </thead>\n",
       "  <tbody>\n",
       "    <tr>\n",
       "      <th>563</th>\n",
       "      <td>0.004402</td>\n",
       "      <td>0.0</td>\n",
       "    </tr>\n",
       "    <tr>\n",
       "      <th>746</th>\n",
       "      <td>1.067143</td>\n",
       "      <td>1.0</td>\n",
       "    </tr>\n",
       "    <tr>\n",
       "      <th>436</th>\n",
       "      <td>-0.478198</td>\n",
       "      <td>0.0</td>\n",
       "    </tr>\n",
       "    <tr>\n",
       "      <th>1044</th>\n",
       "      <td>0.931058</td>\n",
       "      <td>1.0</td>\n",
       "    </tr>\n",
       "    <tr>\n",
       "      <th>1244</th>\n",
       "      <td>1.008345</td>\n",
       "      <td>1.0</td>\n",
       "    </tr>\n",
       "    <tr>\n",
       "      <th>...</th>\n",
       "      <td>...</td>\n",
       "      <td>...</td>\n",
       "    </tr>\n",
       "    <tr>\n",
       "      <th>553</th>\n",
       "      <td>0.184016</td>\n",
       "      <td>0.0</td>\n",
       "    </tr>\n",
       "    <tr>\n",
       "      <th>77</th>\n",
       "      <td>-0.266359</td>\n",
       "      <td>0.0</td>\n",
       "    </tr>\n",
       "    <tr>\n",
       "      <th>863</th>\n",
       "      <td>1.039175</td>\n",
       "      <td>1.0</td>\n",
       "    </tr>\n",
       "    <tr>\n",
       "      <th>884</th>\n",
       "      <td>0.703277</td>\n",
       "      <td>1.0</td>\n",
       "    </tr>\n",
       "    <tr>\n",
       "      <th>44</th>\n",
       "      <td>0.285069</td>\n",
       "      <td>0.0</td>\n",
       "    </tr>\n",
       "  </tbody>\n",
       "</table>\n",
       "<p>444 rows × 2 columns</p>\n",
       "</div>"
      ],
      "text/plain": [
       "        y_pred  y_test\n",
       "563   0.004402     0.0\n",
       "746   1.067143     1.0\n",
       "436  -0.478198     0.0\n",
       "1044  0.931058     1.0\n",
       "1244  1.008345     1.0\n",
       "...        ...     ...\n",
       "553   0.184016     0.0\n",
       "77   -0.266359     0.0\n",
       "863   1.039175     1.0\n",
       "884   0.703277     1.0\n",
       "44    0.285069     0.0\n",
       "\n",
       "[444 rows x 2 columns]"
      ]
     },
     "execution_count": 9,
     "metadata": {},
     "output_type": "execute_result"
    }
   ],
   "source": [
    "comparison1=pd.DataFrame({'y_pred':y_pred[:,-1],'y_test':y_test['FLOOR']})\n",
    "comparison1"
   ]
  },
  {
   "cell_type": "code",
   "execution_count": 10,
   "id": "96300654",
   "metadata": {},
   "outputs": [
    {
     "data": {
      "text/plain": [
       "(0, 0, 0, 0)"
      ]
     },
     "execution_count": 10,
     "metadata": {},
     "output_type": "execute_result"
    }
   ],
   "source": [
    "list(y_pred[:,-1]).count(0.0),list(y_pred[:,-1]).count(1.0),list(y_pred[:,-1]).count(2.0),list(y_pred[:,-1]).count(3.0)"
   ]
  },
  {
   "cell_type": "code",
   "execution_count": 11,
   "id": "dd90a235",
   "metadata": {},
   "outputs": [
    {
     "data": {
      "text/plain": [
       "(212, 170, 35, 27)"
      ]
     },
     "execution_count": 11,
     "metadata": {},
     "output_type": "execute_result"
    }
   ],
   "source": [
    "list(y_test['FLOOR']).count(0.0),list(y_test['FLOOR']).count(1.0),list(y_test['FLOOR']).count(2.0),list(y_test['FLOOR']).count(3.0)"
   ]
  },
  {
   "cell_type": "code",
   "execution_count": 12,
   "id": "e5eaf380",
   "metadata": {},
   "outputs": [
    {
     "data": {
      "image/png": "[encoded data removed]",
      "text/plain": [
       "<Figure size 432x288 with 1 Axes>"
      ]
     },
     "metadata": {
      "needs_background": "light"
     },
     "output_type": "display_data"
    }
   ],
   "source": [
    "distance=[]\n",
    "actualloc=list(zip(y_test['LATITUDE'],y_test['LONGITUDE']))\n",
    "predloc=list(zip(y_pred[:,-2],y_pred[:,-3]))\n",
    "#actualloc\n",
    "#predloc\n",
    "for i in range(len(x_test)):\n",
    "    orig=actualloc[i]\n",
    "    desti=predloc[i]\n",
    "    distance.append(math.dist(orig,desti))\n",
    "#distance\n",
    "plt.hist(distance,bins=[i for i in range(1,45)])\n",
    "plt.xlabel('Distance')\n",
    "plt.title('Histogram plot showing the distance between predicted and actual location')\n",
    "plt.show()"
   ]
  },
  {
   "cell_type": "code",
   "execution_count": 13,
   "id": "8bb42c85",
   "metadata": {},
   "outputs": [
    {
     "data": {
      "image/png": "[encoded data removed]",
      "text/plain": [
       "<Figure size 432x288 with 1 Axes>"
      ]
     },
     "metadata": {
      "needs_background": "light"
     },
     "output_type": "display_data"
    }
   ],
   "source": [
    "plt.hist(distance,bins=[i for i in range(1,20)])\n",
    "plt.show()"
   ]
  },
  {
   "cell_type": "markdown",
   "id": "42b7acb1",
   "metadata": {},
   "source": [
    "# Tampere2"
   ]
  },
  {
   "cell_type": "code",
   "execution_count": 9,
   "id": "e336b0a5",
   "metadata": {
    "scrolled": true
   },
   "outputs": [],
   "source": [
    "df2=pd.read_csv('TAMPERE2_training.csv')\n",
    "m=list(df2['HEIGHT'])\n",
    "\n",
    "for i in range(len(m)):\n",
    "    if m[i] == 3.5:\n",
    "        m[i]=1\n",
    "    if m[i] == 7:\n",
    "        m[i]=2"
   ]
  },
  {
   "cell_type": "code",
   "execution_count": 10,
   "id": "5f66c38a",
   "metadata": {},
   "outputs": [
    {
     "data": {
      "text/plain": [
       "(583, 357)"
      ]
     },
     "execution_count": 10,
     "metadata": {},
     "output_type": "execute_result"
    }
   ],
   "source": [
    "df2.shape"
   ]
  },
  {
   "cell_type": "code",
   "execution_count": 11,
   "id": "f0fcc4f4",
   "metadata": {},
   "outputs": [],
   "source": [
    "df2['FLOOR']=m"
   ]
  },
  {
   "cell_type": "code",
   "execution_count": 12,
   "id": "6cad4bfc",
   "metadata": {},
   "outputs": [
    {
     "data": {
      "text/plain": [
       "0      0.0\n",
       "1      0.0\n",
       "2      0.0\n",
       "3      0.0\n",
       "4      0.0\n",
       "      ... \n",
       "578    7.0\n",
       "579    7.0\n",
       "580    7.0\n",
       "581    7.0\n",
       "582    7.0\n",
       "Name: HEIGHT, Length: 583, dtype: float64"
      ]
     },
     "execution_count": 12,
     "metadata": {},
     "output_type": "execute_result"
    },
    {
     "data": {
      "image/png": "[encoded data removed]",
      "text/plain": [
       "<Figure size 432x288 with 1 Axes>"
      ]
     },
     "metadata": {
      "needs_background": "light"
     },
     "output_type": "display_data"
    }
   ],
   "source": [
    "plt.plot(df2['HEIGHT'])   \n",
    "df2.pop('HEIGHT')"
   ]
  },
  {
   "cell_type": "code",
   "execution_count": 13,
   "id": "fe269912",
   "metadata": {},
   "outputs": [],
   "source": [
    "#dis1={}"
   ]
  },
  {
   "cell_type": "code",
   "execution_count": 14,
   "id": "aba8e85e",
   "metadata": {},
   "outputs": [],
   "source": [
    "#plt.plot(df2['FLOOR'])             \n",
    "\n",
    "y=df2.iloc[:,-3:-1]\n",
    "x=df2.iloc[:,:-3]\n",
    "#x\n",
    "#y"
   ]
  },
  {
   "cell_type": "code",
   "execution_count": 15,
   "id": "42e6d8a3",
   "metadata": {},
   "outputs": [
    {
     "data": {
      "text/html": [
       "<div>\n",
       "<style scoped>\n",
       "    .dataframe tbody tr th:only-of-type {\n",
       "        vertical-align: middle;\n",
       "    }\n",
       "\n",
       "    .dataframe tbody tr th {\n",
       "        vertical-align: top;\n",
       "    }\n",
       "\n",
       "    .dataframe thead th {\n",
       "        text-align: right;\n",
       "    }\n",
       "</style>\n",
       "<table border=\"1\" class=\"dataframe\">\n",
       "  <thead>\n",
       "    <tr style=\"text-align: right;\">\n",
       "      <th></th>\n",
       "      <th>LONGITUDE</th>\n",
       "      <th>LATITUDE</th>\n",
       "    </tr>\n",
       "  </thead>\n",
       "  <tbody>\n",
       "    <tr>\n",
       "      <th>0</th>\n",
       "      <td>2.5</td>\n",
       "      <td>-3.5</td>\n",
       "    </tr>\n",
       "    <tr>\n",
       "      <th>1</th>\n",
       "      <td>3.5</td>\n",
       "      <td>-10.5</td>\n",
       "    </tr>\n",
       "    <tr>\n",
       "      <th>2</th>\n",
       "      <td>3.5</td>\n",
       "      <td>-15.5</td>\n",
       "    </tr>\n",
       "    <tr>\n",
       "      <th>3</th>\n",
       "      <td>3.5</td>\n",
       "      <td>-21.5</td>\n",
       "    </tr>\n",
       "    <tr>\n",
       "      <th>4</th>\n",
       "      <td>3.5</td>\n",
       "      <td>-28.5</td>\n",
       "    </tr>\n",
       "    <tr>\n",
       "      <th>...</th>\n",
       "      <td>...</td>\n",
       "      <td>...</td>\n",
       "    </tr>\n",
       "    <tr>\n",
       "      <th>578</th>\n",
       "      <td>-99.5</td>\n",
       "      <td>21.5</td>\n",
       "    </tr>\n",
       "    <tr>\n",
       "      <th>579</th>\n",
       "      <td>-105.5</td>\n",
       "      <td>22.5</td>\n",
       "    </tr>\n",
       "    <tr>\n",
       "      <th>580</th>\n",
       "      <td>-106.5</td>\n",
       "      <td>26.5</td>\n",
       "    </tr>\n",
       "    <tr>\n",
       "      <th>581</th>\n",
       "      <td>-105.5</td>\n",
       "      <td>34.5</td>\n",
       "    </tr>\n",
       "    <tr>\n",
       "      <th>582</th>\n",
       "      <td>-106.5</td>\n",
       "      <td>39.5</td>\n",
       "    </tr>\n",
       "  </tbody>\n",
       "</table>\n",
       "<p>583 rows × 2 columns</p>\n",
       "</div>"
      ],
      "text/plain": [
       "     LONGITUDE  LATITUDE\n",
       "0          2.5      -3.5\n",
       "1          3.5     -10.5\n",
       "2          3.5     -15.5\n",
       "3          3.5     -21.5\n",
       "4          3.5     -28.5\n",
       "..         ...       ...\n",
       "578      -99.5      21.5\n",
       "579     -105.5      22.5\n",
       "580     -106.5      26.5\n",
       "581     -105.5      34.5\n",
       "582     -106.5      39.5\n",
       "\n",
       "[583 rows x 2 columns]"
      ]
     },
     "execution_count": 15,
     "metadata": {},
     "output_type": "execute_result"
    }
   ],
   "source": [
    "y"
   ]
  },
  {
   "cell_type": "code",
   "execution_count": 16,
   "id": "ae3bf878",
   "metadata": {},
   "outputs": [],
   "source": [
    "multi_op_reg = MultiOutputRegressor(svr)  \n",
    "\n",
    "x_train,x_test,y_train,y_test=train_test_split(x, y, test_size=0.2, random_state=0)\n",
    "\n",
    "multi_op_reg.fit(x_train,y_train)\n",
    "y_pred=multi_op_reg.predict(x_test)"
   ]
  },
  {
   "cell_type": "code",
   "execution_count": 17,
   "id": "ac1f9fc7",
   "metadata": {},
   "outputs": [],
   "source": [
    "distance=[]\n",
    "actualloc=list(zip(y_test['LATITUDE'],y_test['LONGITUDE']))\n",
    "predloc=list(zip(y_pred[:,-1],y_pred[:,-2]))\n",
    "#actualloc\n",
    "#predloc\n",
    "for i in range(len(x_test)):\n",
    "    orig=actualloc[i]\n",
    "    desti=predloc[i]\n",
    "    distance.append(math.dist(orig,desti))\n",
    "#distance"
   ]
  },
  {
   "cell_type": "code",
   "execution_count": 18,
   "id": "44c08f7d",
   "metadata": {},
   "outputs": [
    {
     "data": {
      "image/png": "[encoded data removed]",
      "text/plain": [
       "<Figure size 432x288 with 1 Axes>"
      ]
     },
     "metadata": {
      "needs_background": "light"
     },
     "output_type": "display_data"
    }
   ],
   "source": [
    "plt.hist(distance,bins=[i for i in range(1,30)])\n",
    "plt.xlabel('Distance in meters')\n",
    "plt.title('Distance error between predicted and actual location')\n",
    "plt.ylabel('Number of records')\n",
    "\n",
    "plt.savefig('svm_t2.eps',dpi=400)"
   ]
  },
  {
   "cell_type": "code",
   "execution_count": 19,
   "id": "87c78d24",
   "metadata": {},
   "outputs": [
    {
     "name": "stdout",
     "output_type": "stream",
     "text": [
      "8 117\n"
     ]
    }
   ],
   "source": [
    "count=0\n",
    "for i in range(len(distance)):\n",
    "    if distance[i]<=10:\n",
    "        count+=1\n",
    "print(count,len(distance))"
   ]
  },
  {
   "cell_type": "code",
   "execution_count": 20,
   "id": "037ca24f",
   "metadata": {},
   "outputs": [
    {
     "data": {
      "text/plain": [
       "0.06837606837606838"
      ]
     },
     "execution_count": 20,
     "metadata": {},
     "output_type": "execute_result"
    }
   ],
   "source": [
    "8/117"
   ]
  },
  {
   "cell_type": "code",
   "execution_count": null,
   "id": "ed120dcd",
   "metadata": {},
   "outputs": [],
   "source": []
  },
  {
   "cell_type": "code",
   "execution_count": null,
   "id": "129c0ab6",
   "metadata": {},
   "outputs": [],
   "source": []
  },
  {
   "cell_type": "code",
   "execution_count": null,
   "id": "55eafe45",
   "metadata": {},
   "outputs": [],
   "source": []
  },
  {
   "cell_type": "code",
   "execution_count": null,
   "id": "414df4e3",
   "metadata": {},
   "outputs": [],
   "source": []
  },
  {
   "cell_type": "code",
   "execution_count": 51,
   "id": "116bfc39",
   "metadata": {},
   "outputs": [],
   "source": [
    "dis1[4]=distance[:]"
   ]
  },
  {
   "cell_type": "code",
   "execution_count": 52,
   "id": "480df1ef",
   "metadata": {},
   "outputs": [
    {
     "data": {
      "image/png": "[encoded data removed]",
      "text/plain": [
       "<Figure size 432x288 with 4 Axes>"
      ]
     },
     "metadata": {
      "needs_background": "light"
     },
     "output_type": "display_data"
    }
   ],
   "source": [
    "fig,axs=plt.subplots(2,2)\n",
    "\n",
    "axs[0,0].hist(dis1[4],bins=[i for i in range(1,30)])\n",
    "#plt.xlabel('Distance')\n",
    "#plt.ylabel('Number of data points')\n",
    "axs[0,0].set_title('distance error,test size=0.5')\n",
    "\n",
    "axs[0,1].hist(dis1[3],bins=[i for i in range(1,30)])\n",
    "#plt.xlabel('Distance')\n",
    "#plt.ylabel('Number of data points')\n",
    "axs[0,1].set_title('distance error,test size=0.4')\n",
    "\n",
    "axs[1,0].hist(dis1[2],bins=[i for i in range(1,30)])\n",
    "#plt.xlabel('Distance')\n",
    "#plt.ylabel('Number of data points')\n",
    "axs[1,0].set_title('distance error,test size=0.3')\n",
    "\n",
    "axs[1,1].hist(dis1[1],bins=[i for i in range(1,30)])\n",
    "#plt.xlabel('Distance')\n",
    "#plt.ylabel('Number of data points')\n",
    "axs[1,1].set_title('distance error,test size=0.2')\n",
    "\n",
    "fig.suptitle('Tampere2_SVM', fontsize=20)\n",
    "\n",
    "fig.tight_layout()\n",
    "\n",
    "plt.savefig('SVM_Tampere2.eps',format='eps',dpi=600)"
   ]
  },
  {
   "cell_type": "code",
   "execution_count": null,
   "id": "17c2900c",
   "metadata": {},
   "outputs": [],
   "source": []
  },
  {
   "cell_type": "code",
   "execution_count": 54,
   "id": "f08f2330",
   "metadata": {},
   "outputs": [
    {
     "name": "stdout",
     "output_type": "stream",
     "text": [
      "r2 score for the model is 0.7619039447585981\n",
      "Mean Absolute Error for the model is 0.08695133205570618\n",
      "cross_validation_score:73.43%\n",
      "Standard deviation:1.87%\n"
     ]
    }
   ],
   "source": [
    "from sklearn.metrics import r2_score,mean_absolute_error\n",
    "from sklearn.model_selection import cross_val_score\n",
    "\n",
    "r2 = r2_score(y_test,y_pred)\n",
    "print('r2 score for the model is', r2)\n",
    "\n",
    "mae=mean_absolute_error(y_pred[:,-1],y_test['FLOOR'])\n",
    "print('Mean Absolute Error for the model is', mae)\n",
    "\n",
    "cross_validation_score =cross_val_score(estimator=multi_op_reg,X=x_train,y=y_train,cv=10)\n",
    "print('cross_validation_score:{:.2f}%'.format(cross_validation_score.mean()*100))\n",
    "print('Standard deviation:{:.2f}%'.format(cross_validation_score.std()*100))\n"
   ]
  },
  {
   "cell_type": "code",
   "execution_count": 21,
   "id": "2d1b4e11",
   "metadata": {},
   "outputs": [
    {
     "data": {
      "text/plain": [
       "(0, 0, 0)"
      ]
     },
     "execution_count": 21,
     "metadata": {},
     "output_type": "execute_result"
    }
   ],
   "source": [
    "list(y_pred[:,-1]).count(0.0),list(y_pred[:,-1]).count(1.0),list(y_pred[:,-1]).count(2.0)"
   ]
  },
  {
   "cell_type": "code",
   "execution_count": 22,
   "id": "afca06df",
   "metadata": {},
   "outputs": [
    {
     "data": {
      "text/plain": [
       "(50, 74, 51)"
      ]
     },
     "execution_count": 22,
     "metadata": {},
     "output_type": "execute_result"
    }
   ],
   "source": [
    "list(y_test['FLOOR']).count(0.0),list(y_test['FLOOR']).count(1.0),list(y_test['FLOOR']).count(2.0)"
   ]
  },
  {
   "cell_type": "code",
   "execution_count": 27,
   "id": "82f8d10a",
   "metadata": {},
   "outputs": [
    {
     "data": {
      "image/png": "[encoded data removed]",
      "text/plain": [
       "<Figure size 432x288 with 1 Axes>"
      ]
     },
     "metadata": {
      "needs_background": "light"
     },
     "output_type": "display_data"
    }
   ],
   "source": [
    "distance=[]\n",
    "actualloc=list(zip(y_test['LATITUDE'],y_test['LONGITUDE']))\n",
    "predloc=list(zip(y_pred[:,-2],y_pred[:,-3]))\n",
    "#actualloc\n",
    "#predloc\n",
    "for i in range(len(x_test)):\n",
    "    orig=actualloc[i]\n",
    "    desti=predloc[i]\n",
    "    distance.append(math.dist(orig,desti))\n",
    "#distance\n",
    "plt.hist(distance,bins=[i for i in range(1,80)])\n",
    "plt.xlabel('Distance')\n",
    "plt.title('Histogram plot showing the distance between predicted and actual location')\n",
    "plt.show()"
   ]
  },
  {
   "cell_type": "code",
   "execution_count": 24,
   "id": "e74835c3",
   "metadata": {},
   "outputs": [
    {
     "data": {
      "image/png": "[encoded data removed]",
      "text/plain": [
       "<Figure size 432x288 with 1 Axes>"
      ]
     },
     "metadata": {
      "needs_background": "light"
     },
     "output_type": "display_data"
    }
   ],
   "source": [
    "plt.hist(distance,bins=[i for i in range(1,20)])\n",
    "plt.show()"
   ]
  },
  {
   "cell_type": "code",
   "execution_count": null,
   "id": "20ab2ee6",
   "metadata": {},
   "outputs": [],
   "source": []
  },
  {
   "cell_type": "code",
   "execution_count": null,
   "id": "458e5503",
   "metadata": {},
   "outputs": [],
   "source": []
  }
 ],
 "metadata": {
  "kernelspec": {
   "display_name": "Python 3 (ipykernel)",
   "language": "python",
   "name": "python3"
  },
  "language_info": {
   "codemirror_mode": {
    "name": "ipython",
    "version": 3
   },
   "file_extension": ".py",
   "mimetype": "text/x-python",
   "name": "python",
   "nbconvert_exporter": "python",
   "pygments_lexer": "ipython3",
   "version": "3.9.2"
  }
 },
 "nbformat": 4,
 "nbformat_minor": 5
}
